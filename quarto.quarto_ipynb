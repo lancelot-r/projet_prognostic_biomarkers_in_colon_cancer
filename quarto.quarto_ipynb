{
  "cells": [
    {
      "cell_type": "code",
      "metadata": {},
      "source": [
        "import json\n",
        "import pandas as pd"
      ],
      "id": "d7488856",
      "execution_count": null,
      "outputs": []
    },
    {
      "cell_type": "code",
      "metadata": {},
      "source": [
        "with open('project_transcriptome.json', 'r') as file:\n",
        "    project_data = json.load(file)"
      ],
      "id": "fd161b32",
      "execution_count": null,
      "outputs": []
    },
    {
      "cell_type": "code",
      "metadata": {},
      "source": [
        "t_colon_samples = project_data[\"datasets\"][\"TCGA-COAD-FPKM\"][\"groups\"][\"T-Colon\"][\"samples\"]"
      ],
      "id": "6344e379",
      "execution_count": null,
      "outputs": []
    },
    {
      "cell_type": "code",
      "metadata": {},
      "source": [
        "expression_data = pd.read_csv('data/expression_data_tcga_coad_TCGA-COAD_log_fpkm_560_samples_42696_genes.csv', sep=';')\n",
        "clinical_annotations = pd.read_excel('data/EpiMed_experimental_grouping_2023.07.08_TCGA-COAD(1).xlsx')"
      ],
      "id": "43e75c59",
      "execution_count": null,
      "outputs": []
    },
    {
      "cell_type": "code",
      "metadata": {},
      "source": [
        "clinical_annotations_filtered = clinical_annotations[clinical_annotations['id_sample'].isin(t_colon_samples)]\n",
        "clinical_annotations_filtered = clinical_annotations_filtered[['id_sample', 'os_months', 'os_censor']]"
      ],
      "id": "8307e3e2",
      "execution_count": null,
      "outputs": []
    },
    {
      "cell_type": "code",
      "metadata": {},
      "source": [
        "columns_to_keep = ['id_gene', 'gene_symbol'] + t_colon_samples\n",
        "expression_data_filtered = expression_data[columns_to_keep]"
      ],
      "id": "2bae7ac3",
      "execution_count": null,
      "outputs": []
    },
    {
      "cell_type": "code",
      "metadata": {},
      "source": [
        "gec_data = pd.read_csv('data/TCGA-COAD-FPKM_GEC.csv', sep=';')\n",
        "survival_data = pd.merge(gec_data, clinical_annotations_filtered, on='id_sample', how='inner')\n",
        "survival_data = survival_data[['id_sample', 'GEC', 'os_months', 'os_censor']]\n",
        "\n",
        "max_survival_time = 120\n",
        "survival_data['os_months'] = survival_data['os_months'].apply(lambda x: min(x, max_survival_time))\n",
        "survival_data['os_censor'] = survival_data.apply(\n",
        "    lambda row: 0 if row['os_months'] == max_survival_time else row['os_censor'], axis=1\n",
        ")"
      ],
      "id": "36a9e3c0",
      "execution_count": null,
      "outputs": []
    },
    {
      "cell_type": "code",
      "metadata": {},
      "source": [
        "from lifelines import KaplanMeierFitter\n",
        "import matplotlib.pyplot as plt\n",
        "import matplotlib\n",
        "\n",
        "kmf = KaplanMeierFitter()\n",
        "\n",
        "plt.figure(figsize=(6, 6))\n",
        "plt.suptitle('bold figure suptitle', fontsize=14, fontweight='bold')\n",
        "ax.set_xlabel('xlabel')\n",
        "ax.set_ylabel('ylabel')\n",
        "\n",
        "for group in survival_data['GEC'].unique():\n",
        "    group_data = survival_data[survival_data['GEC'] == group]\n",
        "    kmf.fit(durations=group_data['os_months'], event_observed=group_data['os_censor'], label=group)\n",
        "    kmf.plot_survival_function(show_censors = True, ci_show = False)"
      ],
      "id": "57a16402",
      "execution_count": null,
      "outputs": []
    }
  ],
  "metadata": {
    "kernelspec": {
      "display_name": "Python 3",
      "language": "python",
      "name": "python3"
    }
  },
  "nbformat": 4,
  "nbformat_minor": 5
}